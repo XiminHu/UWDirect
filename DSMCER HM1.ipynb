{
 "cells": [
  {
   "cell_type": "markdown",
   "metadata": {},
   "source": [
    "## DSMCER Homework 1\n",
    "\n",
    "### Summary for the assigned reading\n",
    "\n",
    "\n",
    "The publication firstly introduced traditional chemical engineering data processing and explained data science approaches provide us more possibilities on future researches. Then it points out the main 3 domains, data management, machine learning and visualization for the application of data science. \n",
    "\n",
    "For data management part, the article mentioned that to overcome the challenge for cost and large data processing, a collection of loosely coupled and inexpensive computers is applied such as AWS. On the second part, an overview was provided for machine learning in a diagram, supervised learning and unsupervised learning were introduced. Lastly for visualization, it pointed out that dimensionality-reduction techniques are applied on high-dimensional dataset in order to make it possible for the visualization.\n",
    "\n",
    "Then the article discussed the opportunities of data science in researches using different examples in the chemical or biological researches. For instance, on ab initio calculations: to overcome the heavy computational cost, supervised learning techniques were applied. Large-scale simulation analysis is also mentioned, as it used to be difficult due to the large design space, is overcome by modelling approaches using computational simulation.\n",
    "\n",
    "In conclusion, this publication introduced the concept of data science and how it is applying on the chemical engineering discipline. \n"
   ]
  },
  {
   "cell_type": "markdown",
   "metadata": {},
   "source": [
    "Research paper relating to my own research area:\n",
    "Deep Learning for the Precise Peak Detection in High-Resolution LC–MS Data, Arsenty D. Melnikov, Yuri P. Tsentalovich, and Vadim V. Yanshole, Analytical Chemistry 2020 92 (1), 588-592, DOI: 10.1021/acs.analchem.9b04811"
   ]
  }
 ],
 "metadata": {
  "kernelspec": {
   "display_name": "Python 3",
   "language": "python",
   "name": "python3"
  },
  "language_info": {
   "codemirror_mode": {
    "name": "ipython",
    "version": 3
   },
   "file_extension": ".py",
   "mimetype": "text/x-python",
   "name": "python",
   "nbconvert_exporter": "python",
   "pygments_lexer": "ipython3",
   "version": "3.6.3"
  }
 },
 "nbformat": 4,
 "nbformat_minor": 2
}
